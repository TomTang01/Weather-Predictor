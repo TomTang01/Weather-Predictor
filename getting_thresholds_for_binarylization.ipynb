{
  "cells": [
    {
      "cell_type": "code",
      "execution_count": 1,
      "metadata": {
        "colab": {
          "base_uri": "https://localhost:8080/",
          "height": 465
        },
        "id": "-wh_TUg4jnI8",
        "outputId": "743c51e9-d179-4fe7-edfb-10142e9af306"
      },
      "outputs": [
        {
          "data": {
            "image/png": "[encoded data removed]",
            "text/plain": [
              "<Figure size 640x480 with 1 Axes>"
            ]
          },
          "metadata": {},
          "output_type": "display_data"
        },
        {
          "name": "stdout",
          "output_type": "stream",
          "text": [
            "Temperature Median of Training Set: 51.0\n",
            "Humidity Median of Training Set: 66.0\n"
          ]
        }
      ],
      "source": [
        "import pandas as pd\n",
        "import matplotlib.pyplot as plt\n",
        "import numpy as np\n",
        "\n",
        "df = pd.read_csv(\"daily_data.csv\")\n",
        "\n",
        "# Ignore the last 100 rows\n",
        "df = df[:-100]\n",
        "\n",
        "# Calculate medians\n",
        "temp_median = df[\"DailyAverageDryBulbTemperature\"].median()\n",
        "humidity_median = df[\"DailyAverageRelativeHumidity\"].median()\n",
        "\n",
        "# Plot temperature histogram\n",
        "plt.hist(df[\"DailyAverageDryBulbTemperature\"], bins=20)\n",
        "plt.axvline(temp_median, color='red', linestyle='dashed')\n",
        "\n",
        "# Plot humidity histogram\n",
        "plt.hist(df[\"DailyAverageRelativeHumidity\"], bins=20)\n",
        "plt.axvline(humidity_median, color='red', linestyle='dashed')\n",
        "\n",
        "# Show the plots\n",
        "plt.show()\n",
        "\n",
        "# Print the median values\n",
        "print(\"Temperature Median of Training Set:\", temp_median)\n",
        "print(\"Humidity Median of Training Set:\", humidity_median)"
      ]
    },
    {
      "cell_type": "code",
      "execution_count": 2,
      "metadata": {
        "colab": {
          "base_uri": "https://localhost:8080/",
          "height": 424
        },
        "id": "B9WwDBqEjnJF",
        "outputId": "75e78e34-8080-4743-a140-cb9e8ecbdc7e"
      },
      "outputs": [
        {
          "data": {
            "text/html": [
              "<div>\n",
              "<style scoped>\n",
              "    .dataframe tbody tr th:only-of-type {\n",
              "        vertical-align: middle;\n",
              "    }\n",
              "\n",
              "    .dataframe tbody tr th {\n",
              "        vertical-align: top;\n",
              "    }\n",
              "\n",
              "    .dataframe thead th {\n",
              "        text-align: right;\n",
              "    }\n",
              "</style>\n",
              "<table border=\"1\" class=\"dataframe\">\n",
              "  <thead>\n",
              "    <tr style=\"text-align: right;\">\n",
              "      <th></th>\n",
              "      <th>DailyAverageDryBulbTemperature</th>\n",
              "      <th>DailyAverageRelativeHumidity</th>\n",
              "      <th>DailyPrecipitation</th>\n",
              "      <th>DailySnowDepth</th>\n",
              "    </tr>\n",
              "  </thead>\n",
              "  <tbody>\n",
              "    <tr>\n",
              "      <th>0</th>\n",
              "      <td>25.0</td>\n",
              "      <td>46.0</td>\n",
              "      <td>0.00</td>\n",
              "      <td>0.0</td>\n",
              "    </tr>\n",
              "    <tr>\n",
              "      <th>1</th>\n",
              "      <td>32.0</td>\n",
              "      <td>57.0</td>\n",
              "      <td>0.00</td>\n",
              "      <td>0.0</td>\n",
              "    </tr>\n",
              "    <tr>\n",
              "      <th>2</th>\n",
              "      <td>27.0</td>\n",
              "      <td>74.0</td>\n",
              "      <td>0.57</td>\n",
              "      <td>0.0</td>\n",
              "    </tr>\n",
              "    <tr>\n",
              "      <th>3</th>\n",
              "      <td>39.0</td>\n",
              "      <td>86.0</td>\n",
              "      <td>0.22</td>\n",
              "      <td>1.0</td>\n",
              "    </tr>\n",
              "    <tr>\n",
              "      <th>4</th>\n",
              "      <td>27.0</td>\n",
              "      <td>59.0</td>\n",
              "      <td>0.00</td>\n",
              "      <td>0.0</td>\n",
              "    </tr>\n",
              "    <tr>\n",
              "      <th>...</th>\n",
              "      <td>...</td>\n",
              "      <td>...</td>\n",
              "      <td>...</td>\n",
              "      <td>...</td>\n",
              "    </tr>\n",
              "    <tr>\n",
              "      <th>2563</th>\n",
              "      <td>27.0</td>\n",
              "      <td>61.0</td>\n",
              "      <td>0.00</td>\n",
              "      <td>0.0</td>\n",
              "    </tr>\n",
              "    <tr>\n",
              "      <th>2564</th>\n",
              "      <td>48.0</td>\n",
              "      <td>72.0</td>\n",
              "      <td>0.12</td>\n",
              "      <td>0.0</td>\n",
              "    </tr>\n",
              "    <tr>\n",
              "      <th>2565</th>\n",
              "      <td>38.0</td>\n",
              "      <td>66.0</td>\n",
              "      <td>0.11</td>\n",
              "      <td>0.0</td>\n",
              "    </tr>\n",
              "    <tr>\n",
              "      <th>2566</th>\n",
              "      <td>22.0</td>\n",
              "      <td>61.0</td>\n",
              "      <td>0.03</td>\n",
              "      <td>0.0</td>\n",
              "    </tr>\n",
              "    <tr>\n",
              "      <th>2567</th>\n",
              "      <td>21.0</td>\n",
              "      <td>49.0</td>\n",
              "      <td>0.00</td>\n",
              "      <td>0.0</td>\n",
              "    </tr>\n",
              "  </tbody>\n",
              "</table>\n",
              "<p>2568 rows × 4 columns</p>\n",
              "</div>"
            ],
            "text/plain": [
              "      DailyAverageDryBulbTemperature  DailyAverageRelativeHumidity  \\\n",
              "0                               25.0                          46.0   \n",
              "1                               32.0                          57.0   \n",
              "2                               27.0                          74.0   \n",
              "3                               39.0                          86.0   \n",
              "4                               27.0                          59.0   \n",
              "...                              ...                           ...   \n",
              "2563                            27.0                          61.0   \n",
              "2564                            48.0                          72.0   \n",
              "2565                            38.0                          66.0   \n",
              "2566                            22.0                          61.0   \n",
              "2567                            21.0                          49.0   \n",
              "\n",
              "      DailyPrecipitation  DailySnowDepth  \n",
              "0                   0.00             0.0  \n",
              "1                   0.00             0.0  \n",
              "2                   0.57             0.0  \n",
              "3                   0.22             1.0  \n",
              "4                   0.00             0.0  \n",
              "...                  ...             ...  \n",
              "2563                0.00             0.0  \n",
              "2564                0.12             0.0  \n",
              "2565                0.11             0.0  \n",
              "2566                0.03             0.0  \n",
              "2567                0.00             0.0  \n",
              "\n",
              "[2568 rows x 4 columns]"
            ]
          },
          "execution_count": 2,
          "metadata": {},
          "output_type": "execute_result"
        }
      ],
      "source": [
        "df = pd.read_csv(\"daily_data.csv\",usecols=[11, 12,24,25])\n",
        "df = df[:-100]\n",
        "\n",
        "# Consider the T(small amount of rain or snow) value for precipitation and Snow as 0.00/no precipitation and snow\n",
        "df[\"DailyPrecipitation\"] = df[\"DailyPrecipitation\"].replace(\"T\", 0.00).astype(float)\n",
        "df[\"DailySnowDepth\"] = df[\"DailySnowDepth\"].replace(\"T\", 0.00).astype(float)\n",
        "df"
      ]
    },
    {
      "cell_type": "code",
      "execution_count": 3,
      "metadata": {
        "colab": {
          "base_uri": "https://localhost:8080/"
        },
        "id": "ZoB3SanZk_Mq",
        "outputId": "eebecd02-abd0-492b-f839-649966921861"
      },
      "outputs": [
        {
          "data": {
            "text/plain": [
              "array([[0.60626588, 0.39373412],\n",
              "       [0.33549784, 0.66450216]])"
            ]
          },
          "execution_count": 3,
          "metadata": {},
          "output_type": "execute_result"
        }
      ],
      "source": [
        "# Transition Matrix/////////////////////////////////////////////////////////////\n",
        "Precipitation = df[\"DailyPrecipitation\"]\n",
        "Snow = df[\"DailySnowDepth\"]\n",
        "sum = 0\n",
        "p_rs_rs = np.sum([1 if (Precipitation[i] > 0.00 or Snow[i] > 0.00) and\n",
        "                    (Precipitation[i+1] > 0.00 or Snow[i+1] > 0.00) else 0\n",
        "                                              for i in range(0,len(df)-1)])\n",
        "p_rs_nrs = np.sum([1 if (Precipitation[i] > 0.00 or Snow[i] > 0.00) and\n",
        "                  (Precipitation[i+1] == 0.00 and Snow[i+1] == 0.00) else 0\n",
        "                                              for i in range(0,len(df)-1)])\n",
        "sum = p_rs_rs + p_rs_nrs\n",
        "p_rs_rs /= sum\n",
        "p_rs_nrs /= sum\n",
        "\n",
        "p_nrs_rs = np.sum([1 if (Precipitation[i+1] > 0.00 or Snow[i+1] > 0.00) and\n",
        "                    (Precipitation[i] == 0.00 and Snow[i] == 0.00) else 0\n",
        "                                              for i in range(0,len(df)-1)])\n",
        "p_nrs_nrs = np.sum([1 if (Precipitation[i] == 0.00 and Snow[i] == 0.00) and\n",
        "                    (Precipitation[i+1] == 0.00 and Snow[i+1] == 0.00) else 0\n",
        "                                              for i in range(0,len(df)-1)])\n",
        "sum = p_nrs_rs + p_nrs_nrs\n",
        "p_nrs_rs /= sum\n",
        "p_nrs_nrs /= sum\n",
        "\n",
        "transition_matrix = np.array([[p_rs_rs, p_rs_nrs], [p_nrs_rs, p_nrs_nrs]])\n",
        "transition_matrix"
      ]
    },
    {
      "cell_type": "code",
      "execution_count": 4,
      "metadata": {
        "colab": {
          "base_uri": "https://localhost:8080/"
        },
        "id": "V9dasRFImZdz",
        "outputId": "b2514e91-c2c4-412a-812c-0320e8ce911d"
      },
      "outputs": [
        {
          "data": {
            "text/plain": [
              "array([[0.35901778, 0.05757832, 0.3700254 , 0.21337849],\n",
              "       [0.2480173 , 0.32876712, 0.11031002, 0.31290555]])"
            ]
          },
          "execution_count": 4,
          "metadata": {},
          "output_type": "execute_result"
        }
      ],
      "source": [
        "#Emission Matrix////////////////////////////////////////////////////////////////\n",
        "#51.0. Any data point with a temperature higher or equal\n",
        "#to this threshold will be classified as high, others are low\n",
        "#66.0. Any data point with a humidity higher or equal to this\n",
        "#threshold will be classified as high, others are low\n",
        "Temperature = df[\"DailyAverageDryBulbTemperature\"]\n",
        "Humidity = df[\"DailyAverageRelativeHumidity\"]\n",
        "\n",
        "p_obs_given_rs = np.zeros((1,4))\n",
        "p_obs_given_nrs = np.zeros((1,4))\n",
        "for i in range(0, len(df)):\n",
        "    if Precipitation[i] > 0.00 or Snow[i] > 0.00:\n",
        "        if Temperature[i] >= 51.0 and Humidity[i] >= 66.0:\n",
        "            p_obs_given_rs[0][0] += 1\n",
        "        elif Temperature[i] >= 51.0 and Humidity[i] < 66.0:\n",
        "            p_obs_given_rs[0][1] += 1\n",
        "        elif Temperature[i] < 51.0 and Humidity[i] >= 66.0:\n",
        "            p_obs_given_rs[0][2] += 1\n",
        "        else:\n",
        "            p_obs_given_rs[0][3] += 1\n",
        "    else:\n",
        "        if Temperature[i] >= 51.0 and Humidity[i] >= 66.0:\n",
        "            p_obs_given_nrs[0][0] += 1\n",
        "        elif Temperature[i] >= 51.0 and Humidity[i] < 66.0:\n",
        "            p_obs_given_nrs[0][1] += 1\n",
        "        elif Temperature[i] < 51.0 and Humidity[i] >= 66.0:\n",
        "            p_obs_given_nrs[0][2] += 1\n",
        "        else:\n",
        "            p_obs_given_nrs[0][3] += 1\n",
        "\n",
        "p_obs_given_rs /= np.sum(p_obs_given_rs)\n",
        "p_obs_given_nrs /= np.sum(p_obs_given_nrs)\n",
        "emission_matrix = np.array([p_obs_given_rs[0], p_obs_given_nrs[0]])\n",
        "emission_matrix"
      ]
    },
    {
      "cell_type": "code",
      "execution_count": 5,
      "metadata": {
        "colab": {
          "base_uri": "https://localhost:8080/"
        },
        "id": "4Rq0bHNJumf-",
        "outputId": "9141495d-0c99-45fb-9fec-601975ecb412"
      },
      "outputs": [
        {
          "data": {
            "text/plain": [
              "array([0.45989097, 0.54010903])"
            ]
          },
          "execution_count": 5,
          "metadata": {},
          "output_type": "execute_result"
        }
      ],
      "source": [
        "#initial_state//////////////////////////////////////////////////////////////////\n",
        "p_rs = np.sum([1 if Precipitation[i] > 0.00 or Snow[i] > 0.00 else 0\n",
        "                                  for i in range(0,len(df))])/len(df)\n",
        "p_nrs = 1 - p_rs\n",
        "initial_state = np.array([p_rs, p_nrs])\n",
        "initial_state"
      ]
    },
    {
      "cell_type": "code",
      "execution_count": 12,
      "metadata": {
        "id": "RJCEPzeDxCQh"
      },
      "outputs": [],
      "source": [
        "def fowardAlgorithm(transition_matrix, emission_matrix, initial_distribution, observation):\n",
        "    obs_map = {\n",
        "        (\"High\", \"High\"): 0,\n",
        "        (\"High\", \"Low\"): 1,\n",
        "        (\"Low\",  \"High\"): 2,\n",
        "        (\"Low\",  \"Low\"):  3\n",
        "    }\n",
        "    obs_index = obs_map.get(observation)\n",
        "    if obs_index is None:\n",
        "        raise ValueError(f\"Invalid observation {observation}. Expected one of {list(obs_map.keys())}.\")\n",
        "\n",
        "    alpha_today = initial_distribution * emission_matrix[:, obs_index]\n",
        "    sum_alpha = alpha_today.sum()\n",
        "    if sum_alpha == 0:\n",
        "        alpha_today = np.array([0.5, 0.5])\n",
        "    else:\n",
        "        alpha_today /= sum_alpha\n",
        "\n",
        "    tomorrow_dist = np.dot(alpha_today, transition_matrix)\n",
        "    prob_rain_snow = tomorrow_dist[0]\n",
        "\n",
        "    if prob_rain_snow >= 0.5:\n",
        "        statement = \"Most likely will rain/snow tomorrow.\"\n",
        "    else:\n",
        "        statement = \"Most likely no rain/snow tomorrow.\"\n",
        "\n",
        "    return prob_rain_snow, statement"
      ]
    },
    {
      "cell_type": "code",
      "execution_count": 13,
      "metadata": {},
      "outputs": [
        {
          "name": "stdout",
          "output_type": "stream",
          "text": [
            "probability: 0.37063567286369803\n",
            "prediction: Most likely no rain/snow tomorrow.\n"
          ]
        }
      ],
      "source": [
        "p, prediction = fowardAlgorithm(transition_matrix,emission_matrix,initial_state,(\"High\",\"Low\"))\n",
        "print(\"probability:\",p)\n",
        "print(\"prediction:\",prediction)"
      ]
    },
    {
      "cell_type": "code",
      "execution_count": null,
      "metadata": {},
      "outputs": [],
      "source": []
    }
  ],
  "metadata": {
    "colab": {
      "provenance": []
    },
    "kernelspec": {
      "display_name": "Python 3",
      "language": "python",
      "name": "python3"
    },
    "language_info": {
      "codemirror_mode": {
        "name": "ipython",
        "version": 3
      },
      "file_extension": ".py",
      "mimetype": "text/x-python",
      "name": "python",
      "nbconvert_exporter": "python",
      "pygments_lexer": "ipython3",
      "version": "3.11.9"
    }
  },
  "nbformat": 4,
  "nbformat_minor": 0
}
